{
 "cells": [
  {
   "cell_type": "code",
   "execution_count": 7,
   "metadata": {},
   "outputs": [],
   "source": [
    "import jax\n",
    "import jax.numpy as jnp\n",
    "from jax.sharding import Mesh, NamedSharding, PartitionSpec as P\n",
    "from jax.experimental import mesh_utils\n",
    "\n",
    "devices = mesh_utils.create_device_mesh((2,2))\n",
    "mesh = Mesh(devices, axis_names=('x', 'y'))\n",
    "\n",
    "\n",
    "def weight(w_):\n",
    "        #w_ = jax.random.normal(jax.random.PRNGKey(0), (64, 64), dtype='float32')\n",
    "        w_ = jax.lax.with_sharding_constraint(w_, NamedSharding(mesh, P()))\n",
    "        # Cayley Transform Calculation\n",
    "        I = jnp.eye(w_.shape[0], dtype=w_.dtype)\n",
    "        W = jnp.linalg.solve(I + w_, I - w_)  # Solve linear system for W\n",
    "        return W.sum()\n",
    "\n",
    "w_in = jax.random.normal(jax.random.PRNGKey(0), (64, 64), dtype='float32')\n",
    "result = weight(w_in)"
   ]
  },
  {
   "cell_type": "code",
   "execution_count": 9,
   "metadata": {},
   "outputs": [
    {
     "data": {
      "text/plain": [
       "Array(-62.208313, dtype=float32)"
      ]
     },
     "execution_count": 9,
     "metadata": {},
     "output_type": "execute_result"
    }
   ],
   "source": [
    "result"
   ]
  },
  {
   "cell_type": "code",
   "execution_count": 10,
   "metadata": {},
   "outputs": [],
   "source": [
    "grad_weight = jax.grad(weight)"
   ]
  },
  {
   "cell_type": "code",
   "execution_count": 11,
   "metadata": {},
   "outputs": [
    {
     "name": "stdout",
     "output_type": "stream",
     "text": [
      "[[-0.6879153  -0.7543204   1.1403724  ...  0.23609817  2.9483542\n",
      "  -2.1114783 ]\n",
      " [-0.6547487  -0.71795225  1.0853913  ...  0.22471511  2.8062043\n",
      "  -2.009677  ]\n",
      " [-0.09802833 -0.10749111  0.16250375 ...  0.03364413  0.4201422\n",
      "  -0.3008869 ]\n",
      " ...\n",
      " [ 0.36669135  0.40208846 -0.60787237 ... -0.12585142 -1.5716119\n",
      "   1.1255177 ]\n",
      " [-0.18188933 -0.19944727  0.30152196 ...  0.0624259   0.77956414\n",
      "  -0.55828875]\n",
      " [-0.41243052 -0.45224273  0.68369514 ...  0.14154953  1.7676466\n",
      "  -1.2659087 ]]\n"
     ]
    }
   ],
   "source": [
    "print(grad_weight(w_in))"
   ]
  },
  {
   "cell_type": "code",
   "execution_count": null,
   "metadata": {},
   "outputs": [],
   "source": []
  }
 ],
 "metadata": {
  "kernelspec": {
   "display_name": "Python 3",
   "language": "python",
   "name": "python3"
  },
  "language_info": {
   "codemirror_mode": {
    "name": "ipython",
    "version": 3
   },
   "file_extension": ".py",
   "mimetype": "text/x-python",
   "name": "python",
   "nbconvert_exporter": "python",
   "pygments_lexer": "ipython3",
   "version": "3.10.12"
  }
 },
 "nbformat": 4,
 "nbformat_minor": 2
}
