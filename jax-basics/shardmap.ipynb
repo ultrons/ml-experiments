{
 "cells": [
  {
   "cell_type": "code",
   "execution_count": 2,
   "id": "7df13a47-aee2-47e9-82b1-0ec9e647a779",
   "metadata": {},
   "outputs": [],
   "source": [
    "import os\n",
    "#os.environ['LIBTPU_INIT_ARGS'] = '--xla_enable_transpose_trace=true'\n",
    "#os.environ[\"XLA_FLAGS\"] = '--xla_force_host_platform_device_count=8, --xla_enable_transpose_trace=true' # Use 8 CPU devices\n",
    "os.environ[\"XLA_FLAGS\"] = '--xla_force_host_platform_device_count=8' # Use 8 CPU devices\n",
    "# It does not work on TPU VMs, unable to create CPU device array."
   ]
  },
  {
   "cell_type": "code",
   "execution_count": 3,
   "id": "feafca57-b7ae-4dca-ad95-eea22823c491",
   "metadata": {},
   "outputs": [],
   "source": [
    "from functools import partial\n",
    "\n",
    "import jax\n",
    "import jax.numpy as jnp\n",
    "from jax import jit\n",
    "\n",
    "from jax.sharding import Mesh, PartitionSpec as P\n",
    "from jax.experimental import mesh_utils\n",
    "from jax.experimental.shard_map import shard_map"
   ]
  },
  {
   "cell_type": "code",
   "execution_count": 4,
   "id": "07244c34-0b7d-4c60-ad5a-9ff0022cbce0",
   "metadata": {},
   "outputs": [
    {
     "data": {
      "text/plain": [
       "[TpuDevice(id=0, process_index=0, coords=(0,0,0), core_on_chip=0),\n",
       " TpuDevice(id=1, process_index=0, coords=(1,0,0), core_on_chip=0),\n",
       " TpuDevice(id=2, process_index=0, coords=(0,1,0), core_on_chip=0),\n",
       " TpuDevice(id=3, process_index=0, coords=(1,1,0), core_on_chip=0)]"
      ]
     },
     "execution_count": 4,
     "metadata": {},
     "output_type": "execute_result"
    }
   ],
   "source": [
    "jax.devices()"
   ]
  },
  {
   "cell_type": "code",
   "execution_count": 11,
   "id": "9cec0a6d-c780-49f7-a094-ab8b446ac6c0",
   "metadata": {},
   "outputs": [],
   "source": [
    "from jax.tree_util import tree_map, tree_all\n",
    "\n",
    "def allclose(a, b):\n",
    "    return tree_all(\n",
    "        tree_map(partial(jnp.allclose, atol=1e-2, rtol=1e-2), a, b)\n",
    "    )\n"
   ]
  },
  {
   "cell_type": "code",
   "execution_count": 12,
   "id": "a5cff6c2-b670-4dfd-a1c7-e168c8b5452b",
   "metadata": {},
   "outputs": [],
   "source": [
    "devices = mesh_utils.create_device_mesh((2,2))\n",
    "mesh = Mesh(devices, axis_names=('x', 'y'))"
   ]
  },
  {
   "cell_type": "markdown",
   "id": "adfbba20-e96a-4192-a4d2-31cba4968a46",
   "metadata": {},
   "source": [
    "vmap specifies which index to treat as the vectorization axis, similar to batch.\n",
    "both vmap and pmap can provide any named axis which can be used for a collective operation.\n",
    "The replicas for collective operations must match the number of devices in the said axis"
   ]
  },
  {
   "cell_type": "code",
   "execution_count": 27,
   "id": "279bdc98-ea85-4e26-a0ee-449767d739f1",
   "metadata": {},
   "outputs": [],
   "source": [
    "def check_vmap(f, xs):\n",
    "  ans = jax.vmap(f, in_axes=(0,), out_axes=0)(xs)\n",
    "  expected = jnp.stack([f(x) for x in xs])  # vmap reference semantics\n",
    "  print(ans.shape)\n",
    "  print(allclose(ans, expected))\n",
    "\n",
    "def sq(x):\n",
    "    y = x @ x.T\n",
    "    return y"
   ]
  },
  {
   "cell_type": "code",
   "execution_count": 28,
   "id": "329aecfe-ab1d-459b-aaf4-739aaa216bbe",
   "metadata": {},
   "outputs": [
    {
     "name": "stdout",
     "output_type": "stream",
     "text": [
      "(4, 3, 3)\n",
      "True\n"
     ]
    }
   ],
   "source": [
    "check_vmap(sq, jnp.arange(12).reshape(4, 3, 1))"
   ]
  },
  {
   "cell_type": "code",
   "execution_count": 43,
   "id": "b5ff8feb-9fc6-4f3a-a743-45542ca54533",
   "metadata": {},
   "outputs": [],
   "source": [
    "a = jnp.arange(8 * 16.).reshape(8, 16)\n",
    "b = jnp.arange(16 * 4.).reshape(16, 4)"
   ]
  },
  {
   "cell_type": "markdown",
   "id": "cb20547d-bc99-486f-ac10-47bce9729f37",
   "metadata": {},
   "source": [
    "Shardmap in effect does a device put on all the inputs as per in_spec, and then results of shardmap are by default collated in the main program assuming the out_spec to be true (there are reasonable checks).\n",
    "Shardmap does not perform any collective by itself, the function is expected to provide the local computation.\n",
    "\n",
    "In the following example, we keep the results of the matmul sharded in each replica.\n",
    "The local matmul result has the right shape but the results are partial only.\n",
    "Reduce scatter helps each shard get the correct matmul result partition.\n",
    "The output stays sharded.\n",
    "But when it's printed it's gathered to show the full value.\n"
   ]
  },
  {
   "cell_type": "code",
   "execution_count": 48,
   "id": "1d1549cc-9cc3-457a-a52b-e761e92df7f0",
   "metadata": {},
   "outputs": [
    {
     "name": "stdout",
     "output_type": "stream",
     "text": [
      "printing c_block shape: (Array(4, dtype=int32), Array(2, dtype=int32))\n",
      "printing c_block shape: (Array(4, dtype=int32), Array(2, dtype=int32))\n",
      "printing c_block shape: (Array(4, dtype=int32), Array(2, dtype=int32))\n",
      "printing c_block shape: (Array(4, dtype=int32), Array(2, dtype=int32))\n",
      "printing c_partialsum shape: (Array(4, dtype=int32), Array(4, dtype=int32))\n",
      "printing c_partialsum shape: (Array(4, dtype=int32), Array(4, dtype=int32))\n",
      "printing c_partialsum shape: (Array(4, dtype=int32), Array(4, dtype=int32))\n",
      "printing c_partialsum shape: (Array(4, dtype=int32), Array(4, dtype=int32))\n",
      "(8, 4)\n"
     ]
    },
    {
     "data": {
      "text/html": [
       "<pre style=\"white-space:pre;overflow-x:auto;line-height:normal;font-family:Menlo,'DejaVu Sans Mono',consolas,'Courier New',monospace\"><span style=\"color: #ffffff; text-decoration-color: #ffffff; background-color: #393b79\">         </span><span style=\"color: #ffffff; text-decoration-color: #ffffff; background-color: #de9ed6\">         </span>\n",
       "<span style=\"color: #ffffff; text-decoration-color: #ffffff; background-color: #393b79\">         </span><span style=\"color: #ffffff; text-decoration-color: #ffffff; background-color: #de9ed6\">         </span>\n",
       "<span style=\"color: #ffffff; text-decoration-color: #ffffff; background-color: #393b79\">  TPU 0  </span><span style=\"color: #ffffff; text-decoration-color: #ffffff; background-color: #de9ed6\">  TPU 1  </span>\n",
       "<span style=\"color: #ffffff; text-decoration-color: #ffffff; background-color: #393b79\">         </span><span style=\"color: #ffffff; text-decoration-color: #ffffff; background-color: #de9ed6\">         </span>\n",
       "<span style=\"color: #ffffff; text-decoration-color: #ffffff; background-color: #393b79\">         </span><span style=\"color: #ffffff; text-decoration-color: #ffffff; background-color: #de9ed6\">         </span>\n",
       "<span style=\"color: #ffffff; text-decoration-color: #ffffff; background-color: #393b79\">         </span><span style=\"color: #ffffff; text-decoration-color: #ffffff; background-color: #de9ed6\">         </span>\n",
       "<span style=\"color: #ffffff; text-decoration-color: #ffffff; background-color: #ad494a\">         </span><span style=\"color: #000000; text-decoration-color: #000000; background-color: #b5cf6b\">         </span>\n",
       "<span style=\"color: #ffffff; text-decoration-color: #ffffff; background-color: #ad494a\">         </span><span style=\"color: #000000; text-decoration-color: #000000; background-color: #b5cf6b\">         </span>\n",
       "<span style=\"color: #ffffff; text-decoration-color: #ffffff; background-color: #ad494a\">  TPU 2  </span><span style=\"color: #000000; text-decoration-color: #000000; background-color: #b5cf6b\">  TPU 3  </span>\n",
       "<span style=\"color: #ffffff; text-decoration-color: #ffffff; background-color: #ad494a\">         </span><span style=\"color: #000000; text-decoration-color: #000000; background-color: #b5cf6b\">         </span>\n",
       "<span style=\"color: #ffffff; text-decoration-color: #ffffff; background-color: #ad494a\">         </span><span style=\"color: #000000; text-decoration-color: #000000; background-color: #b5cf6b\">         </span>\n",
       "<span style=\"color: #ffffff; text-decoration-color: #ffffff; background-color: #ad494a\">         </span><span style=\"color: #000000; text-decoration-color: #000000; background-color: #b5cf6b\">         </span>\n",
       "</pre>\n"
      ],
      "text/plain": [
       "\u001b[38;2;255;255;255;48;2;57;59;121m         \u001b[0m\u001b[38;2;255;255;255;48;2;222;158;214m         \u001b[0m\n",
       "\u001b[38;2;255;255;255;48;2;57;59;121m         \u001b[0m\u001b[38;2;255;255;255;48;2;222;158;214m         \u001b[0m\n",
       "\u001b[38;2;255;255;255;48;2;57;59;121m  \u001b[0m\u001b[38;2;255;255;255;48;2;57;59;121mTPU 0\u001b[0m\u001b[38;2;255;255;255;48;2;57;59;121m  \u001b[0m\u001b[38;2;255;255;255;48;2;222;158;214m  \u001b[0m\u001b[38;2;255;255;255;48;2;222;158;214mTPU 1\u001b[0m\u001b[38;2;255;255;255;48;2;222;158;214m  \u001b[0m\n",
       "\u001b[38;2;255;255;255;48;2;57;59;121m         \u001b[0m\u001b[38;2;255;255;255;48;2;222;158;214m         \u001b[0m\n",
       "\u001b[38;2;255;255;255;48;2;57;59;121m         \u001b[0m\u001b[38;2;255;255;255;48;2;222;158;214m         \u001b[0m\n",
       "\u001b[38;2;255;255;255;48;2;57;59;121m         \u001b[0m\u001b[38;2;255;255;255;48;2;222;158;214m         \u001b[0m\n",
       "\u001b[38;2;255;255;255;48;2;173;73;74m         \u001b[0m\u001b[38;2;0;0;0;48;2;181;207;107m         \u001b[0m\n",
       "\u001b[38;2;255;255;255;48;2;173;73;74m         \u001b[0m\u001b[38;2;0;0;0;48;2;181;207;107m         \u001b[0m\n",
       "\u001b[38;2;255;255;255;48;2;173;73;74m  \u001b[0m\u001b[38;2;255;255;255;48;2;173;73;74mTPU 2\u001b[0m\u001b[38;2;255;255;255;48;2;173;73;74m  \u001b[0m\u001b[38;2;0;0;0;48;2;181;207;107m  \u001b[0m\u001b[38;2;0;0;0;48;2;181;207;107mTPU 3\u001b[0m\u001b[38;2;0;0;0;48;2;181;207;107m  \u001b[0m\n",
       "\u001b[38;2;255;255;255;48;2;173;73;74m         \u001b[0m\u001b[38;2;0;0;0;48;2;181;207;107m         \u001b[0m\n",
       "\u001b[38;2;255;255;255;48;2;173;73;74m         \u001b[0m\u001b[38;2;0;0;0;48;2;181;207;107m         \u001b[0m\n",
       "\u001b[38;2;255;255;255;48;2;173;73;74m         \u001b[0m\u001b[38;2;0;0;0;48;2;181;207;107m         \u001b[0m\n"
      ]
     },
     "metadata": {},
     "output_type": "display_data"
    },
    {
     "data": {
      "text/plain": [
       "True"
      ]
     },
     "execution_count": 48,
     "metadata": {},
     "output_type": "execute_result"
    }
   ],
   "source": [
    "@partial(shard_map, mesh=mesh, in_specs=(P('x', 'y'), P('y', None)), out_specs=P('x', 'y'))\n",
    "def not_matmul (a_block, b_block):\n",
    "    c_partialsum = jnp.dot(a_block, b_block)\n",
    "    c_block = jax.lax.psum_scatter(c_partialsum, 'y', scatter_dimension=1, tiled=True)\n",
    "    #c_block = c_partialsum\n",
    "    jax.debug.print(\"printing c_block shape: {a}\", a=c_block.shape)  # works with shard_map\n",
    "    jax.debug.print(\"printing c_partialsum shape: {a}\", a=c_partialsum.shape)  # works with shard_map\n",
    "\n",
    "\n",
    "    return c_block\n",
    "\n",
    "c = not_matmul(a, b)\n",
    "print(c.shape)\n",
    "jax.debug.visualize_array_sharding(c)\n",
    "allclose(c, jnp.dot(a, b))"
   ]
  },
  {
   "cell_type": "markdown",
   "id": "c5b8c617-6e8b-48b0-90a7-debd39e128f1",
   "metadata": {},
   "source": [
    "Another approach could be to keep the results sharded on axis=0, but complete on axis=1"
   ]
  },
  {
   "cell_type": "code",
   "execution_count": 50,
   "id": "eddfba9b-0fdc-4ddf-b010-bf46b7a5f425",
   "metadata": {},
   "outputs": [
    {
     "name": "stdout",
     "output_type": "stream",
     "text": [
      "printing c_block shape: (Array(4, dtype=int32), Array(4, dtype=int32))\n",
      "printing c_block shape: (Array(4, dtype=int32), Array(4, dtype=int32))\n",
      "printing c_block shape: (Array(4, dtype=int32), Array(4, dtype=int32))\n",
      "printing c_block shape: (Array(4, dtype=int32), Array(4, dtype=int32))\n",
      "printing c_partialsum shape: (Array(4, dtype=int32), Array(4, dtype=int32))\n",
      "printing c_partialsum shape: (Array(4, dtype=int32), Array(4, dtype=int32))\n",
      "printing c_partialsum shape: (Array(4, dtype=int32), Array(4, dtype=int32))\n",
      "printing c_partialsum shape: (Array(4, dtype=int32), Array(4, dtype=int32))\n",
      "(8, 4)\n"
     ]
    },
    {
     "data": {
      "text/html": [
       "<pre style=\"white-space:pre;overflow-x:auto;line-height:normal;font-family:Menlo,'DejaVu Sans Mono',consolas,'Courier New',monospace\"><span style=\"color: #ffffff; text-decoration-color: #ffffff; background-color: #393b79\">            </span>\n",
       "<span style=\"color: #ffffff; text-decoration-color: #ffffff; background-color: #393b79\">            </span>\n",
       "<span style=\"color: #ffffff; text-decoration-color: #ffffff; background-color: #393b79\">  TPU 0,1   </span>\n",
       "<span style=\"color: #ffffff; text-decoration-color: #ffffff; background-color: #393b79\">            </span>\n",
       "<span style=\"color: #ffffff; text-decoration-color: #ffffff; background-color: #393b79\">            </span>\n",
       "<span style=\"color: #ffffff; text-decoration-color: #ffffff; background-color: #393b79\">            </span>\n",
       "<span style=\"color: #ffffff; text-decoration-color: #ffffff; background-color: #393b79\">            </span>\n",
       "<span style=\"color: #ffffff; text-decoration-color: #ffffff; background-color: #393b79\">            </span>\n",
       "<span style=\"color: #ffffff; text-decoration-color: #ffffff; background-color: #393b79\">  TPU 2,3   </span>\n",
       "<span style=\"color: #ffffff; text-decoration-color: #ffffff; background-color: #393b79\">            </span>\n",
       "<span style=\"color: #ffffff; text-decoration-color: #ffffff; background-color: #393b79\">            </span>\n",
       "<span style=\"color: #ffffff; text-decoration-color: #ffffff; background-color: #393b79\">            </span>\n",
       "</pre>\n"
      ],
      "text/plain": [
       "\u001b[38;2;255;255;255;48;2;57;59;121m            \u001b[0m\n",
       "\u001b[38;2;255;255;255;48;2;57;59;121m            \u001b[0m\n",
       "\u001b[38;2;255;255;255;48;2;57;59;121m  \u001b[0m\u001b[38;2;255;255;255;48;2;57;59;121mTPU 0,1\u001b[0m\u001b[38;2;255;255;255;48;2;57;59;121m   \u001b[0m\n",
       "\u001b[38;2;255;255;255;48;2;57;59;121m            \u001b[0m\n",
       "\u001b[38;2;255;255;255;48;2;57;59;121m            \u001b[0m\n",
       "\u001b[38;2;255;255;255;48;2;57;59;121m            \u001b[0m\n",
       "\u001b[38;2;255;255;255;48;2;57;59;121m            \u001b[0m\n",
       "\u001b[38;2;255;255;255;48;2;57;59;121m            \u001b[0m\n",
       "\u001b[38;2;255;255;255;48;2;57;59;121m  \u001b[0m\u001b[38;2;255;255;255;48;2;57;59;121mTPU 2,3\u001b[0m\u001b[38;2;255;255;255;48;2;57;59;121m   \u001b[0m\n",
       "\u001b[38;2;255;255;255;48;2;57;59;121m            \u001b[0m\n",
       "\u001b[38;2;255;255;255;48;2;57;59;121m            \u001b[0m\n",
       "\u001b[38;2;255;255;255;48;2;57;59;121m            \u001b[0m\n"
      ]
     },
     "metadata": {},
     "output_type": "display_data"
    },
    {
     "data": {
      "text/plain": [
       "True"
      ]
     },
     "execution_count": 50,
     "metadata": {},
     "output_type": "execute_result"
    }
   ],
   "source": [
    "@partial(shard_map, mesh=mesh, in_specs=(P('x', 'y'), P('y', None)), out_specs=P('x', None))\n",
    "def basic_matmul (a_block, b_block):\n",
    "    c_partialsum = jnp.dot(a_block, b_block)\n",
    "    c_block = jax.lax.psum(c_partialsum, 'y')\n",
    "    jax.debug.print(\"printing c_block shape: {a}\", a=c_block.shape)  # works with shard_map\n",
    "    jax.debug.print(\"printing c_partialsum shape: {a}\", a=c_partialsum.shape)  # works with shard_map\n",
    "\n",
    "\n",
    "    return c_block\n",
    "\n",
    "c = basic_matmul(a, b)\n",
    "print(c.shape)\n",
    "jax.debug.visualize_array_sharding(c)\n",
    "allclose(c, jnp.dot(a, b))"
   ]
  },
  {
   "cell_type": "markdown",
   "id": "123de860-7809-4247-a040-80e4ea1044c7",
   "metadata": {},
   "source": []
  },
  {
   "cell_type": "code",
   "execution_count": 51,
   "id": "372a63ae-2ca7-494e-a01a-6d5afee4ebbf",
   "metadata": {},
   "outputs": [
    {
     "ename": "NameError",
     "evalue": "name 'f' is not defined",
     "output_type": "error",
     "traceback": [
      "\u001b[0;31m---------------------------------------------------------------------------\u001b[0m",
      "\u001b[0;31mNameError\u001b[0m                                 Traceback (most recent call last)",
      "Cell \u001b[0;32mIn[51], line 3\u001b[0m\n\u001b[1;32m      1\u001b[0m mesh \u001b[38;5;241m=\u001b[39m Mesh(jax\u001b[38;5;241m.\u001b[39mdevices(), (\u001b[38;5;124m'\u001b[39m\u001b[38;5;124mi\u001b[39m\u001b[38;5;124m'\u001b[39m,))\n\u001b[1;32m      2\u001b[0m x \u001b[38;5;241m=\u001b[39m jnp\u001b[38;5;241m.\u001b[39marange(\u001b[38;5;241m16.\u001b[39m)\n\u001b[0;32m----> 3\u001b[0m f_shmapped \u001b[38;5;241m=\u001b[39m shard_map(\u001b[43mf\u001b[49m, mesh, in_specs\u001b[38;5;241m=\u001b[39mP(\u001b[38;5;124m'\u001b[39m\u001b[38;5;124mi\u001b[39m\u001b[38;5;124m'\u001b[39m), out_specs\u001b[38;5;241m=\u001b[39mP(\u001b[38;5;124m'\u001b[39m\u001b[38;5;124mi\u001b[39m\u001b[38;5;124m'\u001b[39m))\n\u001b[1;32m      4\u001b[0m y \u001b[38;5;241m=\u001b[39m f_shmapped(x)\n",
      "\u001b[0;31mNameError\u001b[0m: name 'f' is not defined"
     ]
    }
   ],
   "source": [
    "mesh = Mesh(jax.devices(), ('i',))\n",
    "x = jnp.arange(16.)\n",
    "f_shmapped = shard_map(f, mesh, in_specs=P('i'), out_specs=P('i'))\n",
    "y = f_shmapped(x)"
   ]
  },
  {
   "cell_type": "code",
   "execution_count": null,
   "id": "68a86178-971e-48e4-b5df-e318a15bde8b",
   "metadata": {},
   "outputs": [],
   "source": []
  }
 ],
 "metadata": {
  "kernelspec": {
   "display_name": "Python 3 (ipykernel)",
   "language": "python",
   "name": "python3"
  },
  "language_info": {
   "codemirror_mode": {
    "name": "ipython",
    "version": 3
   },
   "file_extension": ".py",
   "mimetype": "text/x-python",
   "name": "python",
   "nbconvert_exporter": "python",
   "pygments_lexer": "ipython3",
   "version": "3.10.12"
  }
 },
 "nbformat": 4,
 "nbformat_minor": 5
}
