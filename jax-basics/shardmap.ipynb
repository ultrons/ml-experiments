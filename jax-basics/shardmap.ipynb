{
 "cells": [
  {
   "cell_type": "code",
   "execution_count": 1,
   "id": "7df13a47-aee2-47e9-82b1-0ec9e647a779",
   "metadata": {},
   "outputs": [],
   "source": [
    "import os\n",
    "#os.environ['LIBTPU_INIT_ARGS'] = '--xla_enable_transpose_trace=true'\n",
    "#os.environ[\"XLA_FLAGS\"] = '--xla_force_host_platform_device_count=8, --xla_enable_transpose_trace=true' # Use 8 CPU devices\n",
    "#os.environ[\"XLA_FLAGS\"] = '--xla_force_host_platform_device_count=8' # Use 8 CPU devices\n",
    "os.environ[\"LIBTPU_INIT_ARGS\"] = '--xla_enable_async_all_gather=true TPU_MEGACORE=MEGACORE_DENSE'\n",
    "# It does not work on TPU VMs, unable to create CPU device array."
   ]
  },
  {
   "cell_type": "code",
   "execution_count": 2,
   "id": "feafca57-b7ae-4dca-ad95-eea22823c491",
   "metadata": {},
   "outputs": [],
   "source": [
    "from functools import partial\n",
    "\n",
    "import jax\n",
    "import jax.numpy as jnp\n",
    "from jax import jit\n",
    "\n",
    "from jax.sharding import Mesh, PartitionSpec as P\n",
    "from jax.experimental import mesh_utils\n",
    "from jax.experimental.shard_map import shard_map"
   ]
  },
  {
   "cell_type": "code",
   "execution_count": 4,
   "id": "07244c34-0b7d-4c60-ad5a-9ff0022cbce0",
   "metadata": {},
   "outputs": [
    {
     "data": {
      "text/plain": [
       "[TpuDevice(id=0, process_index=0, coords=(0,0,0), core_on_chip=0),\n",
       " TpuDevice(id=1, process_index=0, coords=(1,0,0), core_on_chip=0),\n",
       " TpuDevice(id=2, process_index=0, coords=(0,1,0), core_on_chip=0),\n",
       " TpuDevice(id=3, process_index=0, coords=(1,1,0), core_on_chip=0)]"
      ]
     },
     "execution_count": 4,
     "metadata": {},
     "output_type": "execute_result"
    }
   ],
   "source": [
    "jax.devices()"
   ]
  },
  {
   "cell_type": "code",
   "execution_count": 3,
   "id": "9cec0a6d-c780-49f7-a094-ab8b446ac6c0",
   "metadata": {},
   "outputs": [],
   "source": [
    "from jax.tree_util import tree_map, tree_all\n",
    "\n",
    "def allclose(a, b):\n",
    "    return tree_all(\n",
    "        tree_map(partial(jnp.allclose, atol=1e-2, rtol=1e-2), a, b)\n",
    "    )\n"
   ]
  },
  {
   "cell_type": "markdown",
   "id": "adfbba20-e96a-4192-a4d2-31cba4968a46",
   "metadata": {},
   "source": [
    "vmap specifies which index to treat as the vectorization axis, similar to batch.\n",
    "both vmap and pmap can provide a name for an axis which can be used for a collective operation.\n",
    "The replicas for collective operations must match the number of devices in the said axis"
   ]
  },
  {
   "cell_type": "code",
   "execution_count": 4,
   "id": "279bdc98-ea85-4e26-a0ee-449767d739f1",
   "metadata": {},
   "outputs": [],
   "source": [
    "def check_vmap(f, xs):\n",
    "  ans = jax.vmap(f, in_axes=(0,), out_axes=0)(xs)\n",
    "  expected = jnp.stack([f(x) for x in xs])  # vmap reference semantics\n",
    "  print(allclose(ans, expected))\n",
    "\n",
    "def sq(x):\n",
    "    y = x @ x.T\n",
    "    return y"
   ]
  },
  {
   "cell_type": "code",
   "execution_count": 5,
   "id": "329aecfe-ab1d-459b-aaf4-739aaa216bbe",
   "metadata": {},
   "outputs": [
    {
     "name": "stdout",
     "output_type": "stream",
     "text": [
      "True\n"
     ]
    }
   ],
   "source": [
    "check_vmap(sq, jnp.arange(12).reshape(4, 3, 1))"
   ]
  },
  {
   "cell_type": "markdown",
   "id": "cb20547d-bc99-486f-ac10-47bce9729f37",
   "metadata": {},
   "source": [
    "Shardmap in effect does a device put on all the inputs as per in_spec, and then results of shardmap are by default collated in the main program assuming the out_spec to be true (there are reasonable checks).\n",
    "Shardmap does not perform any collective by itself, the function is expected to provide the local computation.\n",
    "\n",
    "In the following example, we keep the results of the matmul sharded in each replica.\n",
    "The local matmul result has the right shape but the results are partial only.\n",
    "Reduce scatter helps each shard get the correct matmul result partition.\n",
    "The output stays sharded.\n",
    "But when it's printed it's gathered to show the full value.\n"
   ]
  },
  {
   "cell_type": "code",
   "execution_count": 7,
   "id": "1d1549cc-9cc3-457a-a52b-e761e92df7f0",
   "metadata": {},
   "outputs": [
    {
     "name": "stdout",
     "output_type": "stream",
     "text": [
      "printing c_block shape: (Array(4, dtype=int32), Array(2, dtype=int32))\n",
      "printing c_block shape: (Array(4, dtype=int32), Array(2, dtype=int32))\n",
      "printing c_block shape: (Array(4, dtype=int32), Array(2, dtype=int32))\n",
      "printing c_block shape: (Array(4, dtype=int32), Array(2, dtype=int32))\n",
      "printing c_partialsum shape: (Array(4, dtype=int32), Array(4, dtype=int32))\n",
      "printing c_partialsum shape: (Array(4, dtype=int32), Array(4, dtype=int32))\n",
      "printing c_partialsum shape: (Array(4, dtype=int32), Array(4, dtype=int32))\n",
      "printing c_partialsum shape: (Array(4, dtype=int32), Array(4, dtype=int32))\n",
      "(8, 4)\n"
     ]
    },
    {
     "data": {
      "text/html": [
       "<pre style=\"white-space:pre;overflow-x:auto;line-height:normal;font-family:Menlo,'DejaVu Sans Mono',consolas,'Courier New',monospace\"><span style=\"color: #ffffff; text-decoration-color: #ffffff; background-color: #393b79\">         </span><span style=\"color: #ffffff; text-decoration-color: #ffffff; background-color: #de9ed6\">         </span>\n",
       "<span style=\"color: #ffffff; text-decoration-color: #ffffff; background-color: #393b79\">         </span><span style=\"color: #ffffff; text-decoration-color: #ffffff; background-color: #de9ed6\">         </span>\n",
       "<span style=\"color: #ffffff; text-decoration-color: #ffffff; background-color: #393b79\">  TPU 0  </span><span style=\"color: #ffffff; text-decoration-color: #ffffff; background-color: #de9ed6\">  TPU 1  </span>\n",
       "<span style=\"color: #ffffff; text-decoration-color: #ffffff; background-color: #393b79\">         </span><span style=\"color: #ffffff; text-decoration-color: #ffffff; background-color: #de9ed6\">         </span>\n",
       "<span style=\"color: #ffffff; text-decoration-color: #ffffff; background-color: #393b79\">         </span><span style=\"color: #ffffff; text-decoration-color: #ffffff; background-color: #de9ed6\">         </span>\n",
       "<span style=\"color: #ffffff; text-decoration-color: #ffffff; background-color: #393b79\">         </span><span style=\"color: #ffffff; text-decoration-color: #ffffff; background-color: #de9ed6\">         </span>\n",
       "<span style=\"color: #ffffff; text-decoration-color: #ffffff; background-color: #ad494a\">         </span><span style=\"color: #000000; text-decoration-color: #000000; background-color: #b5cf6b\">         </span>\n",
       "<span style=\"color: #ffffff; text-decoration-color: #ffffff; background-color: #ad494a\">         </span><span style=\"color: #000000; text-decoration-color: #000000; background-color: #b5cf6b\">         </span>\n",
       "<span style=\"color: #ffffff; text-decoration-color: #ffffff; background-color: #ad494a\">  TPU 2  </span><span style=\"color: #000000; text-decoration-color: #000000; background-color: #b5cf6b\">  TPU 3  </span>\n",
       "<span style=\"color: #ffffff; text-decoration-color: #ffffff; background-color: #ad494a\">         </span><span style=\"color: #000000; text-decoration-color: #000000; background-color: #b5cf6b\">         </span>\n",
       "<span style=\"color: #ffffff; text-decoration-color: #ffffff; background-color: #ad494a\">         </span><span style=\"color: #000000; text-decoration-color: #000000; background-color: #b5cf6b\">         </span>\n",
       "<span style=\"color: #ffffff; text-decoration-color: #ffffff; background-color: #ad494a\">         </span><span style=\"color: #000000; text-decoration-color: #000000; background-color: #b5cf6b\">         </span>\n",
       "</pre>\n"
      ],
      "text/plain": [
       "\u001b[38;2;255;255;255;48;2;57;59;121m         \u001b[0m\u001b[38;2;255;255;255;48;2;222;158;214m         \u001b[0m\n",
       "\u001b[38;2;255;255;255;48;2;57;59;121m         \u001b[0m\u001b[38;2;255;255;255;48;2;222;158;214m         \u001b[0m\n",
       "\u001b[38;2;255;255;255;48;2;57;59;121m  \u001b[0m\u001b[38;2;255;255;255;48;2;57;59;121mTPU 0\u001b[0m\u001b[38;2;255;255;255;48;2;57;59;121m  \u001b[0m\u001b[38;2;255;255;255;48;2;222;158;214m  \u001b[0m\u001b[38;2;255;255;255;48;2;222;158;214mTPU 1\u001b[0m\u001b[38;2;255;255;255;48;2;222;158;214m  \u001b[0m\n",
       "\u001b[38;2;255;255;255;48;2;57;59;121m         \u001b[0m\u001b[38;2;255;255;255;48;2;222;158;214m         \u001b[0m\n",
       "\u001b[38;2;255;255;255;48;2;57;59;121m         \u001b[0m\u001b[38;2;255;255;255;48;2;222;158;214m         \u001b[0m\n",
       "\u001b[38;2;255;255;255;48;2;57;59;121m         \u001b[0m\u001b[38;2;255;255;255;48;2;222;158;214m         \u001b[0m\n",
       "\u001b[38;2;255;255;255;48;2;173;73;74m         \u001b[0m\u001b[38;2;0;0;0;48;2;181;207;107m         \u001b[0m\n",
       "\u001b[38;2;255;255;255;48;2;173;73;74m         \u001b[0m\u001b[38;2;0;0;0;48;2;181;207;107m         \u001b[0m\n",
       "\u001b[38;2;255;255;255;48;2;173;73;74m  \u001b[0m\u001b[38;2;255;255;255;48;2;173;73;74mTPU 2\u001b[0m\u001b[38;2;255;255;255;48;2;173;73;74m  \u001b[0m\u001b[38;2;0;0;0;48;2;181;207;107m  \u001b[0m\u001b[38;2;0;0;0;48;2;181;207;107mTPU 3\u001b[0m\u001b[38;2;0;0;0;48;2;181;207;107m  \u001b[0m\n",
       "\u001b[38;2;255;255;255;48;2;173;73;74m         \u001b[0m\u001b[38;2;0;0;0;48;2;181;207;107m         \u001b[0m\n",
       "\u001b[38;2;255;255;255;48;2;173;73;74m         \u001b[0m\u001b[38;2;0;0;0;48;2;181;207;107m         \u001b[0m\n",
       "\u001b[38;2;255;255;255;48;2;173;73;74m         \u001b[0m\u001b[38;2;0;0;0;48;2;181;207;107m         \u001b[0m\n"
      ]
     },
     "metadata": {},
     "output_type": "display_data"
    },
    {
     "data": {
      "text/plain": [
       "True"
      ]
     },
     "execution_count": 7,
     "metadata": {},
     "output_type": "execute_result"
    }
   ],
   "source": [
    "\n",
    "\n",
    "a = jnp.arange(8 * 16.).reshape(8, 16)\n",
    "b = jnp.arange(16 * 4.).reshape(16, 4)\n",
    "\n",
    "devices = mesh_utils.create_device_mesh((2,2))\n",
    "mesh = Mesh(devices, axis_names=('x', 'y'))\n",
    "\n",
    "@partial(shard_map, mesh=mesh, in_specs=(P('x', 'y'), P('y', None)), out_specs=P('x', 'y'))\n",
    "def matmul_keep_sharded (a_block, b_block):\n",
    "    c_partialsum = jnp.dot(a_block, b_block)\n",
    "    c_block = jax.lax.psum_scatter(c_partialsum, 'y', scatter_dimension=1, tiled=True)\n",
    "    #c_block = c_partialsum\n",
    "    jax.debug.print(\"printing c_block shape: {a}\", a=c_block.shape)  # works with shard_map\n",
    "    jax.debug.print(\"printing c_partialsum shape: {a}\", a=c_partialsum.shape)  # works with shard_map\n",
    "\n",
    "\n",
    "    return c_block\n",
    "\n",
    "c = matmul_keep_sharded(a, b)\n",
    "print(c.shape)\n",
    "jax.debug.visualize_array_sharding(c)\n",
    "allclose(c, jnp.dot(a, b))"
   ]
  },
  {
   "cell_type": "markdown",
   "id": "c5b8c617-6e8b-48b0-90a7-debd39e128f1",
   "metadata": {},
   "source": [
    "Another approach could be to keep the results sharded on axis=0, but complete on axis=1"
   ]
  },
  {
   "cell_type": "code",
   "execution_count": 8,
   "id": "eddfba9b-0fdc-4ddf-b010-bf46b7a5f425",
   "metadata": {},
   "outputs": [
    {
     "name": "stdout",
     "output_type": "stream",
     "text": [
      "printing c_block shape: (Array(4, dtype=int32), Array(4, dtype=int32))\n",
      "printing c_block shape: (Array(4, dtype=int32), Array(4, dtype=int32))\n",
      "printing c_block shape: (Array(4, dtype=int32), Array(4, dtype=int32))\n",
      "printing c_block shape: (Array(4, dtype=int32), Array(4, dtype=int32))\n",
      "printing c_partialsum shape: (Array(4, dtype=int32), Array(4, dtype=int32))\n",
      "printing c_partialsum shape: (Array(4, dtype=int32), Array(4, dtype=int32))\n",
      "printing c_partialsum shape: (Array(4, dtype=int32), Array(4, dtype=int32))\n",
      "printing c_partialsum shape: (Array(4, dtype=int32), Array(4, dtype=int32))\n",
      "(8, 4)\n"
     ]
    },
    {
     "data": {
      "text/html": [
       "<pre style=\"white-space:pre;overflow-x:auto;line-height:normal;font-family:Menlo,'DejaVu Sans Mono',consolas,'Courier New',monospace\"><span style=\"color: #ffffff; text-decoration-color: #ffffff; background-color: #393b79\">            </span>\n",
       "<span style=\"color: #ffffff; text-decoration-color: #ffffff; background-color: #393b79\">            </span>\n",
       "<span style=\"color: #ffffff; text-decoration-color: #ffffff; background-color: #393b79\">  TPU 0,1   </span>\n",
       "<span style=\"color: #ffffff; text-decoration-color: #ffffff; background-color: #393b79\">            </span>\n",
       "<span style=\"color: #ffffff; text-decoration-color: #ffffff; background-color: #393b79\">            </span>\n",
       "<span style=\"color: #ffffff; text-decoration-color: #ffffff; background-color: #393b79\">            </span>\n",
       "<span style=\"color: #ffffff; text-decoration-color: #ffffff; background-color: #393b79\">            </span>\n",
       "<span style=\"color: #ffffff; text-decoration-color: #ffffff; background-color: #393b79\">            </span>\n",
       "<span style=\"color: #ffffff; text-decoration-color: #ffffff; background-color: #393b79\">  TPU 2,3   </span>\n",
       "<span style=\"color: #ffffff; text-decoration-color: #ffffff; background-color: #393b79\">            </span>\n",
       "<span style=\"color: #ffffff; text-decoration-color: #ffffff; background-color: #393b79\">            </span>\n",
       "<span style=\"color: #ffffff; text-decoration-color: #ffffff; background-color: #393b79\">            </span>\n",
       "</pre>\n"
      ],
      "text/plain": [
       "\u001b[38;2;255;255;255;48;2;57;59;121m            \u001b[0m\n",
       "\u001b[38;2;255;255;255;48;2;57;59;121m            \u001b[0m\n",
       "\u001b[38;2;255;255;255;48;2;57;59;121m  \u001b[0m\u001b[38;2;255;255;255;48;2;57;59;121mTPU 0,1\u001b[0m\u001b[38;2;255;255;255;48;2;57;59;121m   \u001b[0m\n",
       "\u001b[38;2;255;255;255;48;2;57;59;121m            \u001b[0m\n",
       "\u001b[38;2;255;255;255;48;2;57;59;121m            \u001b[0m\n",
       "\u001b[38;2;255;255;255;48;2;57;59;121m            \u001b[0m\n",
       "\u001b[38;2;255;255;255;48;2;57;59;121m            \u001b[0m\n",
       "\u001b[38;2;255;255;255;48;2;57;59;121m            \u001b[0m\n",
       "\u001b[38;2;255;255;255;48;2;57;59;121m  \u001b[0m\u001b[38;2;255;255;255;48;2;57;59;121mTPU 2,3\u001b[0m\u001b[38;2;255;255;255;48;2;57;59;121m   \u001b[0m\n",
       "\u001b[38;2;255;255;255;48;2;57;59;121m            \u001b[0m\n",
       "\u001b[38;2;255;255;255;48;2;57;59;121m            \u001b[0m\n",
       "\u001b[38;2;255;255;255;48;2;57;59;121m            \u001b[0m\n"
      ]
     },
     "metadata": {},
     "output_type": "display_data"
    },
    {
     "data": {
      "text/plain": [
       "True"
      ]
     },
     "execution_count": 8,
     "metadata": {},
     "output_type": "execute_result"
    }
   ],
   "source": [
    "@partial(shard_map, mesh=mesh, in_specs=(P('x', 'y'), P('y', None)), out_specs=P('x', None))\n",
    "def matmul_keep_sharded_x (a_block, b_block):\n",
    "    c_partialsum = jnp.dot(a_block, b_block)\n",
    "    c_block = jax.lax.psum(c_partialsum, 'y')\n",
    "    jax.debug.print(\"printing c_block shape: {a}\", a=c_block.shape)  # works with shard_map\n",
    "    jax.debug.print(\"printing c_partialsum shape: {a}\", a=c_partialsum.shape)  # works with shard_map\n",
    "\n",
    "\n",
    "    return c_block\n",
    "\n",
    "c = matmul_keep_sharded_x(a, b)\n",
    "print(c.shape)\n",
    "jax.debug.visualize_array_sharding(c)\n",
    "allclose(c, jnp.dot(a, b))"
   ]
  },
  {
   "cell_type": "markdown",
   "id": "cf4117c9",
   "metadata": {},
   "source": [
    "Yet another approach is keep results sharded on y axis but replicated on x"
   ]
  },
  {
   "cell_type": "code",
   "execution_count": 7,
   "id": "682b99a6",
   "metadata": {},
   "outputs": [
    {
     "name": "stdout",
     "output_type": "stream",
     "text": [
      "printing c_block shape: (Array(4, dtype=int32), Array(2, dtype=int32)), c-x shape: (Array(8, dtype=int32), Array(2, dtype=int32))\n",
      "printing c_block shape: (Array(4, dtype=int32), Array(2, dtype=int32)), c-x shape: (Array(8, dtype=int32), Array(2, dtype=int32))\n",
      "printing c_block shape: (Array(4, dtype=int32), Array(2, dtype=int32)), c-x shape: (Array(8, dtype=int32), Array(2, dtype=int32))\n",
      "printing c_block shape: (Array(4, dtype=int32), Array(2, dtype=int32)), c-x shape: (Array(8, dtype=int32), Array(2, dtype=int32))\n",
      "printing c_partialsum shape: (Array(4, dtype=int32), Array(4, dtype=int32))\n",
      "printing c_partialsum shape: (Array(4, dtype=int32), Array(4, dtype=int32))\n",
      "printing c_partialsum shape: (Array(4, dtype=int32), Array(4, dtype=int32))\n",
      "printing c_partialsum shape: (Array(4, dtype=int32), Array(4, dtype=int32))\n",
      "(8, 4)\n"
     ]
    },
    {
     "data": {
      "text/html": [
       "<pre style=\"white-space:pre;overflow-x:auto;line-height:normal;font-family:Menlo,'DejaVu Sans Mono',consolas,'Courier New',monospace\"><span style=\"color: #ffffff; text-decoration-color: #ffffff; background-color: #393b79\">                  </span>\n",
       "<span style=\"color: #ffffff; text-decoration-color: #ffffff; background-color: #393b79\">                  </span>\n",
       "<span style=\"color: #ffffff; text-decoration-color: #ffffff; background-color: #393b79\">                  </span>\n",
       "<span style=\"color: #ffffff; text-decoration-color: #ffffff; background-color: #393b79\">                  </span>\n",
       "<span style=\"color: #ffffff; text-decoration-color: #ffffff; background-color: #393b79\">                  </span>\n",
       "<span style=\"color: #ffffff; text-decoration-color: #ffffff; background-color: #393b79\"> TPU 0,2  TPU 1,3 </span>\n",
       "<span style=\"color: #ffffff; text-decoration-color: #ffffff; background-color: #393b79\">                  </span>\n",
       "<span style=\"color: #ffffff; text-decoration-color: #ffffff; background-color: #393b79\">                  </span>\n",
       "<span style=\"color: #ffffff; text-decoration-color: #ffffff; background-color: #393b79\">                  </span>\n",
       "<span style=\"color: #ffffff; text-decoration-color: #ffffff; background-color: #393b79\">                  </span>\n",
       "<span style=\"color: #ffffff; text-decoration-color: #ffffff; background-color: #393b79\">                  </span>\n",
       "</pre>\n"
      ],
      "text/plain": [
       "\u001b[38;2;255;255;255;48;2;57;59;121m         \u001b[0m\u001b[38;2;255;255;255;48;2;57;59;121m         \u001b[0m\n",
       "\u001b[38;2;255;255;255;48;2;57;59;121m         \u001b[0m\u001b[38;2;255;255;255;48;2;57;59;121m         \u001b[0m\n",
       "\u001b[38;2;255;255;255;48;2;57;59;121m         \u001b[0m\u001b[38;2;255;255;255;48;2;57;59;121m         \u001b[0m\n",
       "\u001b[38;2;255;255;255;48;2;57;59;121m         \u001b[0m\u001b[38;2;255;255;255;48;2;57;59;121m         \u001b[0m\n",
       "\u001b[38;2;255;255;255;48;2;57;59;121m         \u001b[0m\u001b[38;2;255;255;255;48;2;57;59;121m         \u001b[0m\n",
       "\u001b[38;2;255;255;255;48;2;57;59;121m \u001b[0m\u001b[38;2;255;255;255;48;2;57;59;121mTPU 0,2\u001b[0m\u001b[38;2;255;255;255;48;2;57;59;121m \u001b[0m\u001b[38;2;255;255;255;48;2;57;59;121m \u001b[0m\u001b[38;2;255;255;255;48;2;57;59;121mTPU 1,3\u001b[0m\u001b[38;2;255;255;255;48;2;57;59;121m \u001b[0m\n",
       "\u001b[38;2;255;255;255;48;2;57;59;121m         \u001b[0m\u001b[38;2;255;255;255;48;2;57;59;121m         \u001b[0m\n",
       "\u001b[38;2;255;255;255;48;2;57;59;121m         \u001b[0m\u001b[38;2;255;255;255;48;2;57;59;121m         \u001b[0m\n",
       "\u001b[38;2;255;255;255;48;2;57;59;121m         \u001b[0m\u001b[38;2;255;255;255;48;2;57;59;121m         \u001b[0m\n",
       "\u001b[38;2;255;255;255;48;2;57;59;121m         \u001b[0m\u001b[38;2;255;255;255;48;2;57;59;121m         \u001b[0m\n",
       "\u001b[38;2;255;255;255;48;2;57;59;121m         \u001b[0m\u001b[38;2;255;255;255;48;2;57;59;121m         \u001b[0m\n"
      ]
     },
     "metadata": {},
     "output_type": "display_data"
    },
    {
     "data": {
      "text/plain": [
       "True"
      ]
     },
     "execution_count": 7,
     "metadata": {},
     "output_type": "execute_result"
    }
   ],
   "source": [
    "from jax.tree_util import tree_map, tree_all\n",
    "from functools import partial\n",
    "import jax\n",
    "import jax.numpy as jnp\n",
    "from jax import jit\n",
    "\n",
    "from jax.sharding import Mesh, NamedSharding, PartitionSpec as P\n",
    "from jax.experimental import mesh_utils\n",
    "from jax.experimental.shard_map import shard_map\n",
    "\n",
    "def allclose(a, b):\n",
    "    return tree_all(\n",
    "        tree_map(partial(jnp.allclose, atol=1e-2, rtol=1e-2), a, b)\n",
    "    )\n",
    "    \n",
    "a = jnp.arange(8 * 16.).reshape(8, 16)\n",
    "b = jnp.arange(16 * 4.).reshape(16, 4)\n",
    "\n",
    "devices = mesh_utils.create_device_mesh((2,2))\n",
    "mesh = Mesh(devices, axis_names=('x', 'y'))\n",
    "    \n",
    "@partial(shard_map, mesh=mesh, in_specs=(P('x', 'y'), P('y', None)), out_specs=P(None, 'y'), check_rep=False)\n",
    "def matmul_keep_sharded_y (a_block, b_block):\n",
    "    c_partialsum = jnp.dot(a_block, b_block)\n",
    "    c_block = jax.lax.psum_scatter(c_partialsum, 'y', scatter_dimension=1, tiled=True)\n",
    "    c_x = jax.lax.all_gather(c_block, 'x' , tiled=True)\n",
    "    jax.debug.print(\"printing c_block shape: {a}, c-x shape: {b}\", a=c_block.shape, b=c_x.shape) \n",
    "    jax.debug.print(\"printing c_partialsum shape: {a}\", a=c_partialsum.shape)\n",
    "\n",
    "\n",
    "    return c_x\n",
    "\n",
    "c = matmul_keep_sharded_y(a, b)\n",
    "print(c.shape)\n",
    "jax.debug.visualize_array_sharding(c)\n",
    "allclose(c, jnp.dot(a, b))"
   ]
  },
  {
   "cell_type": "code",
   "execution_count": 24,
   "id": "f9824c37",
   "metadata": {},
   "outputs": [],
   "source": [
    "from jax.tree_util import tree_map, tree_all\n",
    "from functools import partial\n",
    "import jax\n",
    "import jax.numpy as jnp\n",
    "from jax import jit\n",
    "\n",
    "from jax.sharding import Mesh, NamedSharding, PartitionSpec as P\n",
    "from jax.experimental import mesh_utils\n",
    "from jax.experimental.shard_map import shard_map\n",
    "\n",
    "import numpy as np\n",
    "\n",
    "def allclose(a, b):\n",
    "    return tree_all(\n",
    "        tree_map(partial(jnp.allclose, atol=1e-2, rtol=1e-2), a, b)\n",
    "    )\n",
    "\n",
    "M, K, N = 16384, 1024, 2048\n",
    "A = jax.random.normal(jax.random.key(0), (M, K))\n",
    "X = jax.random.normal(jax.random.key(1), (K, N))\n",
    "\n",
    "devices = mesh_utils.create_device_mesh((4, 1))\n",
    "mesh = Mesh(devices, axis_names=('x', 'y'))\n",
    "\n",
    "A_x = jax.device_put(A, NamedSharding(mesh, P('x', None)))\n",
    "#X = jax.device_put(X, NamedSharding(mesh, P()))\n",
    "\n",
    "\n"
   ]
  },
  {
   "cell_type": "code",
   "execution_count": 8,
   "id": "77e45a46",
   "metadata": {},
   "outputs": [
    {
     "name": "stderr",
     "output_type": "stream",
     "text": [
      "2024-06-29 23:19:53.195192: W tensorflow/compiler/tf2tensorrt/utils/py_utils.cc:38] TF-TRT Warning: Could not find TensorRT\n"
     ]
    },
    {
     "name": "stdout",
     "output_type": "stream",
     "text": [
      "True\n"
     ]
    },
    {
     "data": {
      "text/html": [
       "<pre style=\"white-space:pre;overflow-x:auto;line-height:normal;font-family:Menlo,'DejaVu Sans Mono',consolas,'Courier New',monospace\"><span style=\"color: #ffffff; text-decoration-color: #ffffff; background-color: #393b79\">           </span>\n",
       "<span style=\"color: #ffffff; text-decoration-color: #ffffff; background-color: #393b79\">           </span>\n",
       "<span style=\"color: #ffffff; text-decoration-color: #ffffff; background-color: #393b79\">           </span>\n",
       "<span style=\"color: #ffffff; text-decoration-color: #ffffff; background-color: #393b79\">           </span>\n",
       "<span style=\"color: #ffffff; text-decoration-color: #ffffff; background-color: #393b79\">           </span>\n",
       "<span style=\"color: #ffffff; text-decoration-color: #ffffff; background-color: #393b79\">TPU 0,1,2,3</span>\n",
       "<span style=\"color: #ffffff; text-decoration-color: #ffffff; background-color: #393b79\">           </span>\n",
       "<span style=\"color: #ffffff; text-decoration-color: #ffffff; background-color: #393b79\">           </span>\n",
       "<span style=\"color: #ffffff; text-decoration-color: #ffffff; background-color: #393b79\">           </span>\n",
       "<span style=\"color: #ffffff; text-decoration-color: #ffffff; background-color: #393b79\">           </span>\n",
       "<span style=\"color: #ffffff; text-decoration-color: #ffffff; background-color: #393b79\">           </span>\n",
       "</pre>\n"
      ],
      "text/plain": [
       "\u001b[38;2;255;255;255;48;2;57;59;121m           \u001b[0m\n",
       "\u001b[38;2;255;255;255;48;2;57;59;121m           \u001b[0m\n",
       "\u001b[38;2;255;255;255;48;2;57;59;121m           \u001b[0m\n",
       "\u001b[38;2;255;255;255;48;2;57;59;121m           \u001b[0m\n",
       "\u001b[38;2;255;255;255;48;2;57;59;121m           \u001b[0m\n",
       "\u001b[38;2;255;255;255;48;2;57;59;121mTPU 0,1,2,3\u001b[0m\n",
       "\u001b[38;2;255;255;255;48;2;57;59;121m           \u001b[0m\n",
       "\u001b[38;2;255;255;255;48;2;57;59;121m           \u001b[0m\n",
       "\u001b[38;2;255;255;255;48;2;57;59;121m           \u001b[0m\n",
       "\u001b[38;2;255;255;255;48;2;57;59;121m           \u001b[0m\n",
       "\u001b[38;2;255;255;255;48;2;57;59;121m           \u001b[0m\n"
      ]
     },
     "metadata": {},
     "output_type": "display_data"
    },
    {
     "data": {
      "text/html": [
       "<pre style=\"white-space:pre;overflow-x:auto;line-height:normal;font-family:Menlo,'DejaVu Sans Mono',consolas,'Courier New',monospace\"><span style=\"color: #ffffff; text-decoration-color: #ffffff; background-color: #393b79\">            </span>\n",
       "<span style=\"color: #ffffff; text-decoration-color: #ffffff; background-color: #393b79\">   TPU 0    </span>\n",
       "<span style=\"color: #ffffff; text-decoration-color: #ffffff; background-color: #393b79\">            </span>\n",
       "<span style=\"color: #ffffff; text-decoration-color: #ffffff; background-color: #de9ed6\">            </span>\n",
       "<span style=\"color: #ffffff; text-decoration-color: #ffffff; background-color: #de9ed6\">   TPU 2    </span>\n",
       "<span style=\"color: #ffffff; text-decoration-color: #ffffff; background-color: #de9ed6\">            </span>\n",
       "<span style=\"color: #ffffff; text-decoration-color: #ffffff; background-color: #ad494a\">            </span>\n",
       "<span style=\"color: #ffffff; text-decoration-color: #ffffff; background-color: #ad494a\">   TPU 1    </span>\n",
       "<span style=\"color: #ffffff; text-decoration-color: #ffffff; background-color: #ad494a\">            </span>\n",
       "<span style=\"color: #000000; text-decoration-color: #000000; background-color: #b5cf6b\">            </span>\n",
       "<span style=\"color: #000000; text-decoration-color: #000000; background-color: #b5cf6b\">   TPU 3    </span>\n",
       "<span style=\"color: #000000; text-decoration-color: #000000; background-color: #b5cf6b\">            </span>\n",
       "</pre>\n"
      ],
      "text/plain": [
       "\u001b[38;2;255;255;255;48;2;57;59;121m            \u001b[0m\n",
       "\u001b[38;2;255;255;255;48;2;57;59;121m   \u001b[0m\u001b[38;2;255;255;255;48;2;57;59;121mTPU 0\u001b[0m\u001b[38;2;255;255;255;48;2;57;59;121m    \u001b[0m\n",
       "\u001b[38;2;255;255;255;48;2;57;59;121m            \u001b[0m\n",
       "\u001b[38;2;255;255;255;48;2;222;158;214m            \u001b[0m\n",
       "\u001b[38;2;255;255;255;48;2;222;158;214m   \u001b[0m\u001b[38;2;255;255;255;48;2;222;158;214mTPU 2\u001b[0m\u001b[38;2;255;255;255;48;2;222;158;214m    \u001b[0m\n",
       "\u001b[38;2;255;255;255;48;2;222;158;214m            \u001b[0m\n",
       "\u001b[38;2;255;255;255;48;2;173;73;74m            \u001b[0m\n",
       "\u001b[38;2;255;255;255;48;2;173;73;74m   \u001b[0m\u001b[38;2;255;255;255;48;2;173;73;74mTPU 1\u001b[0m\u001b[38;2;255;255;255;48;2;173;73;74m    \u001b[0m\n",
       "\u001b[38;2;255;255;255;48;2;173;73;74m            \u001b[0m\n",
       "\u001b[38;2;0;0;0;48;2;181;207;107m            \u001b[0m\n",
       "\u001b[38;2;0;0;0;48;2;181;207;107m   \u001b[0m\u001b[38;2;0;0;0;48;2;181;207;107mTPU 3\u001b[0m\u001b[38;2;0;0;0;48;2;181;207;107m    \u001b[0m\n",
       "\u001b[38;2;0;0;0;48;2;181;207;107m            \u001b[0m\n"
      ]
     },
     "metadata": {},
     "output_type": "display_data"
    }
   ],
   "source": [
    "@jax.jit\n",
    "def f(lhs, rhs):\n",
    "  result = lhs @ rhs\n",
    "  return jax.lax.with_sharding_constraint(result, NamedSharding(mesh, P()))\n",
    "  \n",
    "\n",
    "with jax.profiler.trace(\"/tmp/jax-trace\"):\n",
    "  C1 = f(A_x, X)\n",
    "  \n",
    "print(allclose(C1, jnp.dot(A, X)))\n",
    "\n",
    "jax.debug.visualize_array_sharding(C1)\n",
    "jax.debug.visualize_array_sharding(A_x)\n"
   ]
  },
  {
   "cell_type": "code",
   "execution_count": 19,
   "id": "3451c3e7",
   "metadata": {},
   "outputs": [
    {
     "name": "stdout",
     "output_type": "stream",
     "text": [
      "True\n"
     ]
    }
   ],
   "source": [
    "# @partial(shard_map,\n",
    "#   mesh=mesh,\n",
    "#   in_specs=(P('x', None), P()),\n",
    "#   out_specs=P(),\n",
    "#   check_rep=False\n",
    "#   )\n",
    "def collective_matmul_allgather_lhs_non_contracting(lhs, rhs):\n",
    "    with jax.named_scope('collective_matmul'):\n",
    "        axis_size = jax.lax.psum(1, axis_name='x')\n",
    "        axis_index = jax.lax.axis_index(axis_name='x')\n",
    "        chunk_size = lhs.shape[0]\n",
    "        \n",
    "        shift = partial(\n",
    "            jax.lax.ppermute,\n",
    "            axis_name='x',\n",
    "            perm=[(j, (j - 1) % axis_size) for j in range(axis_size)]\n",
    "        )\n",
    "\n",
    "        result = jnp.zeros((chunk_size * axis_size, rhs.shape[1]), dtype=rhs.dtype)\n",
    "        result = jax.lax.dynamic_update_slice(result, lhs@rhs, (axis_index * chunk_size, 0))\n",
    "        for i in range(1, axis_size):\n",
    "            update_index = (((axis_index + i) % axis_size) * chunk_size, 0)\n",
    "            lhs = shift(lhs)\n",
    "            result = jax.lax.dynamic_update_slice(result, lhs@rhs, update_index)\n",
    "    return result\n",
    "\n",
    "jit_sharded_f = jax.jit(shard_map(\n",
    "  collective_matmul_allgather_lhs_non_contracting,\n",
    "  mesh,\n",
    "  in_specs=(P('x', None), P()),\n",
    "  out_specs=P(),\n",
    "  check_rep=False\n",
    "  ))\n",
    "\n",
    "with jax.profiler.trace(\"/tmp/jax-trace\"):\n",
    "    C = jit_sharded_f(A_x, X)\n",
    "    \n",
    "print(allclose(C, A @ X))\n",
    "    "
   ]
  },
  {
   "cell_type": "code",
   "execution_count": null,
   "id": "32661c96",
   "metadata": {},
   "outputs": [],
   "source": []
  },
  {
   "cell_type": "code",
   "execution_count": 21,
   "id": "f0573eba",
   "metadata": {},
   "outputs": [
    {
     "name": "stdout",
     "output_type": "stream",
     "text": [
      "True\n"
     ]
    }
   ],
   "source": [
    "def collective_matmul_allgather_lhs_non_contracting_bidi(lhs, rhs):\n",
    "    with jax.named_scope('collective_matmul'):\n",
    "        axis_size = jax.lax.psum(1, axis_name='x')\n",
    "        axis_index = jax.lax.axis_index(axis_name='x')\n",
    "        chunk_size = lhs.shape[0]\n",
    "        \n",
    "        shift_right = partial(\n",
    "            jax.lax.ppermute,\n",
    "            axis_name='x',\n",
    "            perm=[(j, (j + 1) % axis_size) for j in range(axis_size)]\n",
    "        )\n",
    "        shift_left = partial(\n",
    "            jax.lax.ppermute,\n",
    "            axis_name='x',\n",
    "            perm=[(j, (j - 1) % axis_size) for j in range(axis_size)]\n",
    "        )\n",
    "        result = jnp.zeros((chunk_size * axis_size, rhs.shape[1]), dtype=rhs.dtype)\n",
    "        result = jax.lax.dynamic_update_slice(result, lhs@rhs, (axis_index * chunk_size, 0))\n",
    "        lhs_hi = jax.lax.dynamic_slice_in_dim(lhs, 0, (chunk_size + 1) // 2)\n",
    "        lhs_lo = jax.lax.dynamic_slice_in_dim(lhs, chunk_size + 1 // 2, chunk_size - (chunk_size + 1) // 2)\n",
    "    \n",
    "        for i in range(1, axis_size):\n",
    "            lhs_hi = shift_left(lhs_hi)\n",
    "            lhs_lo = shift_right(lhs_lo)\n",
    "            update_index_hi = (((axis_index + i) % axis_size) * chunk_size, 0)\n",
    "            update_index_lo = (((axis_index - i) % axis_size) * chunk_size + (chunk_size + 1) // 2, 0)\n",
    "            result = jax.lax.dynamic_update_slice(result, lhs_lo@rhs, update_index_lo)\n",
    "            result = jax.lax.dynamic_update_slice(result, lhs_hi@rhs, update_index_hi)\n",
    "    return result\n",
    "\n",
    "\n",
    "jit_sharded_f = jax.jit(shard_map(\n",
    "  collective_matmul_allgather_lhs_non_contracting_bidi,\n",
    "  mesh,\n",
    "  in_specs=(P('x', None), P()),\n",
    "  out_specs=P(),\n",
    "  check_rep=False\n",
    "  ))\n",
    "\n",
    "with jax.profiler.trace(\"/tmp/jax-trace\"):\n",
    "    C = jit_sharded_f(A_x, X)\n",
    "    \n",
    "print(allclose(C, A @ X))"
   ]
  },
  {
   "cell_type": "code",
   "execution_count": 27,
   "id": "d2dd56a9",
   "metadata": {},
   "outputs": [],
   "source": [
    "Y = jax.random.normal(jax.random.key(1), (4 * K, N))\n",
    "\n",
    "jit_sharded_f = jax.jit(shard_map(\n",
    "  collective_matmul_allgather_lhs_non_contracting_bidi,\n",
    "  mesh,\n",
    "  in_specs=(P('x', None), P('x', None)),\n",
    "  out_specs=P('x', None),\n",
    "  check_rep=False\n",
    "  ))\n",
    "\n",
    "X_x = jax.device_put(Y, NamedSharding(mesh, P('x', None)))\n",
    "with jax.profiler.trace(\"/tmp/jax-trace\"):\n",
    "    C = jit_sharded_f(A_x, X_x)\n",
    "    \n",
    "#print(allclose(C, A @ X))"
   ]
  },
  {
   "cell_type": "code",
   "execution_count": 28,
   "id": "7caab1cf",
   "metadata": {},
   "outputs": [],
   "source": [
    "from jax.tree_util import tree_map, tree_all\n",
    "from functools import partial\n",
    "import jax\n",
    "import jax.numpy as jnp\n",
    "from jax import jit\n",
    "\n",
    "from jax.sharding import Mesh, NamedSharding, PartitionSpec as P\n",
    "from jax.experimental import mesh_utils\n",
    "from jax.experimental.shard_map import shard_map\n",
    "\n",
    "import numpy as np\n",
    "\n",
    "def allclose(a, b):\n",
    "    return tree_all(\n",
    "        tree_map(partial(jnp.allclose, atol=1e-2, rtol=1e-2), a, b)\n",
    "    )\n",
    "\n",
    "M, K, N = 16384, 1024, 2048\n",
    "A = jax.random.normal(jax.random.key(0), (M, K))\n",
    "X = jax.random.normal(jax.random.key(1), (K, N))\n",
    "\n",
    "devices = mesh_utils.create_device_mesh((4, 1))\n",
    "mesh = Mesh(devices, axis_names=('x', 'y'))\n",
    "\n",
    "lhs_spec = P(None, 'x')\n",
    "rhs_spec = P('x', None)\n",
    "\n",
    "A_x = jax.device_put(A, NamedSharding(mesh, lhs_spec))\n",
    "X_x = jax.device_put(X, NamedSharding(mesh, rhs_spec))"
   ]
  },
  {
   "cell_type": "code",
   "execution_count": 30,
   "id": "4ea227cd",
   "metadata": {},
   "outputs": [
    {
     "name": "stdout",
     "output_type": "stream",
     "text": [
      "True\n"
     ]
    }
   ],
   "source": [
    "@partial(shard_map, mesh=mesh, in_specs=(lhs_spec, rhs_spec),\n",
    "         out_specs=rhs_spec)\n",
    "def matmul_psumscatter(lhs_block, rhs_block):\n",
    "  out_summand = lhs_block @ rhs_block\n",
    "  return jax.lax.psum_scatter(out_summand, 'x', tiled=True)\n",
    "\n",
    "out = matmul_psumscatter(A_x, X_x)\n",
    "print(jnp.allclose(out, A_x @ X_x, atol=1e-3, rtol=1e-3))"
   ]
  },
  {
   "cell_type": "code",
   "execution_count": 31,
   "id": "e0874ee1",
   "metadata": {},
   "outputs": [],
   "source": [
    "@partial(shard_map, mesh=mesh, in_specs=(lhs_spec, rhs_spec),\n",
    "         out_specs=rhs_spec)\n",
    "def matmul_psumscatter_overlapped(lhs_block, rhs_block):\n",
    "  size = jax.lax.psum(1, 'x')\n",
    "  idx = jax.lax.axis_index('x')\n",
    "  shift = partial(jax.lax.ppermute, axis_name='x',\n",
    "                  perm=[(i, (i - 1) % size) for i in range(size)])\n",
    "  lhs_block = lhs_block.reshape(size, -1, lhs_block.shape[1])  # split 1st axis\n",
    "\n",
    "  out_summand = lhs_block[(idx + 1) % size] @ rhs_block\n",
    "  for i in range(1, size):\n",
    "    out_summand = shift(out_summand)\n",
    "    out_summand += lhs_block[(idx + i + 1) % size] @ rhs_block\n",
    "  return out_summand"
   ]
  },
  {
   "cell_type": "code",
   "execution_count": 33,
   "id": "59f32e9d",
   "metadata": {},
   "outputs": [
    {
     "name": "stdout",
     "output_type": "stream",
     "text": [
      "True\n"
     ]
    }
   ],
   "source": [
    "out = matmul_psumscatter_overlapped(A_x, X_x)\n",
    "print(jnp.allclose(out, A_x @ X_x,  atol=1e-3, rtol=1e-3))"
   ]
  },
  {
   "cell_type": "markdown",
   "id": "123de860-7809-4247-a040-80e4ea1044c7",
   "metadata": {},
   "source": []
  }
 ],
 "metadata": {
  "kernelspec": {
   "display_name": "Python 3 (ipykernel)",
   "language": "python",
   "name": "python3"
  },
  "language_info": {
   "codemirror_mode": {
    "name": "ipython",
    "version": 3
   },
   "file_extension": ".py",
   "mimetype": "text/x-python",
   "name": "python",
   "nbconvert_exporter": "python",
   "pygments_lexer": "ipython3",
   "version": "3.10.12"
  }
 },
 "nbformat": 4,
 "nbformat_minor": 5
}
